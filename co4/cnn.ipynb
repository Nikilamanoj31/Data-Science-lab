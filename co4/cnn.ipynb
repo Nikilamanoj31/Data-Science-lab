{
  "nbformat": 4,
  "nbformat_minor": 0,
  "metadata": {
    "colab": {
      "provenance": []
    },
    "kernelspec": {
      "name": "python3",
      "display_name": "Python 3"
    },
    "language_info": {
      "name": "python"
    }
  },
  "cells": [
    {
      "cell_type": "code",
      "execution_count": 2,
      "metadata": {
        "id": "3UmSWP0EBmI8"
      },
      "outputs": [],
      "source": [
        "import tensorflow as tf\n",
        "import keras\n",
        "from keras import models,layers,datasets\n",
        "from sklearn.metrics import classification_report\n",
        "import numpy as np\n",
        "import matplotlib.pyplot as plt"
      ]
    },
    {
      "cell_type": "code",
      "source": [
        "(X_train,y_train),(X_test,y_test)=datasets.cifar10.load_data()"
      ],
      "metadata": {
        "colab": {
          "base_uri": "https://localhost:8080/"
        },
        "id": "orar7P_1EchI",
        "outputId": "1cef9d36-8c94-4685-aa6d-cb44db72cb18"
      },
      "execution_count": 3,
      "outputs": [
        {
          "output_type": "stream",
          "name": "stdout",
          "text": [
            "Downloading data from https://www.cs.toronto.edu/~kriz/cifar-10-python.tar.gz\n",
            "170498071/170498071 [==============================] - 4s 0us/step\n"
          ]
        }
      ]
    },
    {
      "cell_type": "code",
      "source": [
        "X_train.shape"
      ],
      "metadata": {
        "colab": {
          "base_uri": "https://localhost:8080/"
        },
        "id": "jjSBhCU_FPTv",
        "outputId": "822e7b3c-3fef-4c45-8cfb-a841e89d610a"
      },
      "execution_count": 4,
      "outputs": [
        {
          "output_type": "execute_result",
          "data": {
            "text/plain": [
              "(50000, 32, 32, 3)"
            ]
          },
          "metadata": {},
          "execution_count": 4
        }
      ]
    },
    {
      "cell_type": "code",
      "source": [
        "X_test.shape"
      ],
      "metadata": {
        "colab": {
          "base_uri": "https://localhost:8080/"
        },
        "id": "WoMWnjCoFYTs",
        "outputId": "b237b4a3-a121-4c1d-f8d1-764ce87b514c"
      },
      "execution_count": 5,
      "outputs": [
        {
          "output_type": "execute_result",
          "data": {
            "text/plain": [
              "(10000, 32, 32, 3)"
            ]
          },
          "metadata": {},
          "execution_count": 5
        }
      ]
    },
    {
      "cell_type": "code",
      "source": [
        "def plot_sample(x,y,index):\n",
        "  plt.Figure(figsize=(1,2))\n",
        "  plt.imshow(x[index])\n",
        "  plt.imshow(y[index])"
      ],
      "metadata": {
        "id": "RCAWyL26Fm6N"
      },
      "execution_count": 6,
      "outputs": []
    },
    {
      "cell_type": "code",
      "source": [
        "X_train=X_train/255\n",
        "X_test=X_test/255"
      ],
      "metadata": {
        "id": "LRxocaw1IlS-"
      },
      "execution_count": 7,
      "outputs": []
    },
    {
      "cell_type": "code",
      "source": [
        "cnn=models.Sequential([\n",
        "#feature extraction\n",
        "layers.Conv2D(filters=32,activation='relu',kernel_size=(3,3),input_shape=(32,32,3)),\n",
        "layers.MaxPool2D((2,2)),\n",
        "layers.Conv2D(filters=32,activation='relu',kernel_size=(3,3),input_shape=(32,32,3)),\n",
        "layers.MaxPool2D((2,2)),\n",
        "#classification\n",
        "layers.Flatten(),\n",
        "layers.Dense(64,activation='relu'),\n",
        "layers.Dense(10,activation='softmax')\n",
        "])"
      ],
      "metadata": {
        "id": "JvOIhLCsowjG"
      },
      "execution_count": 12,
      "outputs": []
    },
    {
      "cell_type": "code",
      "source": [
        "cnn.compile(loss='sparse_categorical_crossentropy', optimizer='adam', metrics=['accuracy'])"
      ],
      "metadata": {
        "id": "sEUuQrwHqnJH"
      },
      "execution_count": 14,
      "outputs": []
    },
    {
      "cell_type": "code",
      "source": [
        "cnn.fit(X_train,y_train,epochs=10)"
      ],
      "metadata": {
        "colab": {
          "base_uri": "https://localhost:8080/"
        },
        "id": "8FVwuXrArZM1",
        "outputId": "9a80ce50-6691-4a0e-b291-b6c778f850de"
      },
      "execution_count": 15,
      "outputs": [
        {
          "output_type": "stream",
          "name": "stdout",
          "text": [
            "Epoch 1/10\n",
            "1563/1563 [==============================] - 53s 34ms/step - loss: 1.5133 - accuracy: 0.4553\n",
            "Epoch 2/10\n",
            "1563/1563 [==============================] - 54s 34ms/step - loss: 1.1845 - accuracy: 0.5826\n",
            "Epoch 3/10\n",
            "1563/1563 [==============================] - 52s 33ms/step - loss: 1.0559 - accuracy: 0.6301\n",
            "Epoch 4/10\n",
            "1563/1563 [==============================] - 52s 33ms/step - loss: 0.9771 - accuracy: 0.6588\n",
            "Epoch 5/10\n",
            "1563/1563 [==============================] - 51s 33ms/step - loss: 0.9227 - accuracy: 0.6766\n",
            "Epoch 6/10\n",
            "1563/1563 [==============================] - 51s 33ms/step - loss: 0.8751 - accuracy: 0.6928\n",
            "Epoch 7/10\n",
            "1563/1563 [==============================] - 51s 33ms/step - loss: 0.8339 - accuracy: 0.7073\n",
            "Epoch 8/10\n",
            "1563/1563 [==============================] - 51s 33ms/step - loss: 0.8024 - accuracy: 0.7172\n",
            "Epoch 9/10\n",
            "1563/1563 [==============================] - 51s 33ms/step - loss: 0.7706 - accuracy: 0.7289\n",
            "Epoch 10/10\n",
            "1563/1563 [==============================] - 51s 33ms/step - loss: 0.7438 - accuracy: 0.7376\n"
          ]
        },
        {
          "output_type": "execute_result",
          "data": {
            "text/plain": [
              "<keras.callbacks.History at 0x7ff254089250>"
            ]
          },
          "metadata": {},
          "execution_count": 15
        }
      ]
    },
    {
      "cell_type": "code",
      "source": [
        "y_pred=cnn.predict(X_test)"
      ],
      "metadata": {
        "colab": {
          "base_uri": "https://localhost:8080/"
        },
        "id": "jmsZC61Uu0qY",
        "outputId": "51870e80-d1e8-4775-9746-e66aa1e08625"
      },
      "execution_count": 16,
      "outputs": [
        {
          "output_type": "stream",
          "name": "stdout",
          "text": [
            "313/313 [==============================] - 3s 10ms/step\n"
          ]
        }
      ]
    },
    {
      "cell_type": "code",
      "source": [
        "y_pred"
      ],
      "metadata": {
        "colab": {
          "base_uri": "https://localhost:8080/"
        },
        "id": "_ClRQho9vLPN",
        "outputId": "f73e2e20-2adf-4fd2-e22e-e52e59d35009"
      },
      "execution_count": 17,
      "outputs": [
        {
          "output_type": "execute_result",
          "data": {
            "text/plain": [
              "array([[6.48523797e-04, 1.93302731e-05, 1.50084719e-02, ...,\n",
              "        8.27358395e-04, 9.67508415e-04, 6.09678427e-05],\n",
              "       [5.76235214e-03, 1.49124473e-01, 6.64864841e-04, ...,\n",
              "        4.90732418e-07, 8.41419518e-01, 3.01808352e-03],\n",
              "       [8.77379924e-02, 7.76544034e-01, 4.90699382e-03, ...,\n",
              "        6.77944103e-04, 7.61019364e-02, 4.24815938e-02],\n",
              "       ...,\n",
              "       [1.05306297e-03, 3.78004756e-06, 1.22300841e-01, ...,\n",
              "        1.01462565e-01, 9.66365042e-06, 2.45059618e-05],\n",
              "       [9.92267509e-04, 9.29249883e-01, 4.58505144e-03, ...,\n",
              "        1.02337159e-04, 1.71863996e-06, 2.04872253e-04],\n",
              "       [1.84201019e-06, 8.28684051e-07, 1.76482317e-05, ...,\n",
              "        9.99085546e-01, 1.40459136e-07, 1.25657025e-05]], dtype=float32)"
            ]
          },
          "metadata": {},
          "execution_count": 17
        }
      ]
    },
    {
      "cell_type": "code",
      "source": [
        "cnn.evaluate(X_test,y_test)"
      ],
      "metadata": {
        "colab": {
          "base_uri": "https://localhost:8080/"
        },
        "id": "uXRhZjBxvPH9",
        "outputId": "11f8eb33-b2f8-45aa-de0c-ec9626efa6c3"
      },
      "execution_count": 18,
      "outputs": [
        {
          "output_type": "stream",
          "name": "stdout",
          "text": [
            "313/313 [==============================] - 3s 10ms/step - loss: 0.9632 - accuracy: 0.6773\n"
          ]
        },
        {
          "output_type": "execute_result",
          "data": {
            "text/plain": [
              "[0.9631812572479248, 0.677299976348877]"
            ]
          },
          "metadata": {},
          "execution_count": 18
        }
      ]
    },
    {
      "cell_type": "code",
      "source": [
        "y_test=y_test.reshape(-1)"
      ],
      "metadata": {
        "id": "KCaqwN5Cvl1v"
      },
      "execution_count": 19,
      "outputs": []
    },
    {
      "cell_type": "code",
      "source": [
        "y_pred=cnn.predict(X_test)"
      ],
      "metadata": {
        "colab": {
          "base_uri": "https://localhost:8080/"
        },
        "id": "ExTGv2Rbv4e1",
        "outputId": "f599f037-20e0-45ab-fbec-7f47a017e645"
      },
      "execution_count": 20,
      "outputs": [
        {
          "output_type": "stream",
          "name": "stdout",
          "text": [
            "313/313 [==============================] - 3s 10ms/step\n"
          ]
        }
      ]
    },
    {
      "cell_type": "code",
      "source": [
        "y_classes=[np.argmax(element) for element in y_pred]\n",
        "print('Classification report: \\n',classification_report(y_test,y_classes))"
      ],
      "metadata": {
        "colab": {
          "base_uri": "https://localhost:8080/"
        },
        "id": "gEWsgTAAwKOA",
        "outputId": "073e6836-9330-4482-e993-083d59bb07d7"
      },
      "execution_count": 21,
      "outputs": [
        {
          "output_type": "stream",
          "name": "stdout",
          "text": [
            "Classification report: \n",
            "               precision    recall  f1-score   support\n",
            "\n",
            "           0       0.77      0.68      0.72      1000\n",
            "           1       0.76      0.81      0.78      1000\n",
            "           2       0.63      0.50      0.56      1000\n",
            "           3       0.44      0.56      0.49      1000\n",
            "           4       0.71      0.53      0.61      1000\n",
            "           5       0.54      0.65      0.59      1000\n",
            "           6       0.75      0.80      0.77      1000\n",
            "           7       0.71      0.75      0.73      1000\n",
            "           8       0.87      0.72      0.79      1000\n",
            "           9       0.71      0.79      0.75      1000\n",
            "\n",
            "    accuracy                           0.68     10000\n",
            "   macro avg       0.69      0.68      0.68     10000\n",
            "weighted avg       0.69      0.68      0.68     10000\n",
            "\n"
          ]
        }
      ]
    }
  ]
}